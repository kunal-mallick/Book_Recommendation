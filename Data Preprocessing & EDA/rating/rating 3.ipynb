{
 "cells": [
  {
   "cell_type": "code",
   "execution_count": 1,
   "metadata": {},
   "outputs": [],
   "source": [
    "import numpy as np\n",
    "import pandas as pd"
   ]
  },
  {
   "cell_type": "code",
   "execution_count": null,
   "metadata": {},
   "outputs": [],
   "source": [
    "book_raw = pd.read_csv('https://raw.githubusercontent.com/kunal-mallick/Book_Recommendation/main/resources/Books.csv', encoding='latin-1')\n",
    "ratings_raw = pd.read_csv('https://raw.githubusercontent.com/kunal-mallick/Book_Recommendation/main/resources/Ratings.csv', encoding='latin-1')"
   ]
  },
  {
   "attachments": {},
   "cell_type": "markdown",
   "metadata": {},
   "source": [
    "# from 90000:100000"
   ]
  },
  {
   "cell_type": "code",
   "execution_count": null,
   "metadata": {},
   "outputs": [],
   "source": [
    "Rating = book_raw.iloc[90000:100000,:5]\n",
    "Rating['rating'] = Rating['ISBN'].apply(lambda x: ratings_raw[ratings_raw['ISBN'] == x].loc[:,'Book-Rating'].mean())\n",
    "\n",
    "Rating"
   ]
  },
  {
   "cell_type": "code",
   "execution_count": null,
   "metadata": {},
   "outputs": [],
   "source": [
    "Rating.to_csv('r10.csv')"
   ]
  },
  {
   "attachments": {},
   "cell_type": "markdown",
   "metadata": {},
   "source": [
    "# from 1,00,000:1,10,000"
   ]
  },
  {
   "cell_type": "code",
   "execution_count": null,
   "metadata": {},
   "outputs": [],
   "source": [
    "Rating = book_raw.iloc[100000:110000,:5]\n",
    "Rating['rating'] = Rating['ISBN'].apply(lambda x: ratings_raw[ratings_raw['ISBN'] == x].loc[:,'Book-Rating'].mean())\n",
    "\n",
    "Rating"
   ]
  },
  {
   "cell_type": "code",
   "execution_count": null,
   "metadata": {},
   "outputs": [],
   "source": [
    "Rating.to_csv('r11.csv')"
   ]
  },
  {
   "attachments": {},
   "cell_type": "markdown",
   "metadata": {},
   "source": [
    "# from 1,10,000:1,20,000"
   ]
  },
  {
   "cell_type": "code",
   "execution_count": null,
   "metadata": {},
   "outputs": [],
   "source": [
    "Rating = book_raw.iloc[110000:120000,:5]\n",
    "Rating['rating'] = Rating['ISBN'].apply(lambda x: ratings_raw[ratings_raw['ISBN'] == x].loc[:,'Book-Rating'].mean())\n",
    "\n",
    "Rating"
   ]
  },
  {
   "cell_type": "code",
   "execution_count": null,
   "metadata": {},
   "outputs": [],
   "source": [
    "Rating.to_csv('r12.csv')"
   ]
  },
  {
   "attachments": {},
   "cell_type": "markdown",
   "metadata": {},
   "source": [
    "# from 1,20,000:1,30,000"
   ]
  },
  {
   "cell_type": "code",
   "execution_count": null,
   "metadata": {},
   "outputs": [],
   "source": [
    "Rating = book_raw.iloc[120000:130000,:5]\n",
    "Rating['rating'] = Rating['ISBN'].apply(lambda x: ratings_raw[ratings_raw['ISBN'] == x].loc[:,'Book-Rating'].mean())\n",
    "\n",
    "Rating"
   ]
  },
  {
   "cell_type": "code",
   "execution_count": null,
   "metadata": {},
   "outputs": [],
   "source": [
    "Rating.to_csv('r13.csv')"
   ]
  },
  {
   "attachments": {},
   "cell_type": "markdown",
   "metadata": {},
   "source": [
    "# from 1,30,000:1,40,000"
   ]
  },
  {
   "cell_type": "code",
   "execution_count": null,
   "metadata": {},
   "outputs": [],
   "source": [
    "Rating = book_raw.iloc[130000:140000,:5]\n",
    "Rating['rating'] = Rating['ISBN'].apply(lambda x: ratings_raw[ratings_raw['ISBN'] == x].loc[:,'Book-Rating'].mean())\n",
    "\n",
    "Rating"
   ]
  },
  {
   "cell_type": "code",
   "execution_count": null,
   "metadata": {},
   "outputs": [],
   "source": [
    "Rating.to_csv('r14.csv')"
   ]
  }
 ],
 "metadata": {
  "kernelspec": {
   "display_name": "base",
   "language": "python",
   "name": "python3"
  },
  "language_info": {
   "codemirror_mode": {
    "name": "ipython",
    "version": 3
   },
   "file_extension": ".py",
   "mimetype": "text/x-python",
   "name": "python",
   "nbconvert_exporter": "python",
   "pygments_lexer": "ipython3",
   "version": "3.9.13"
  },
  "orig_nbformat": 4
 },
 "nbformat": 4,
 "nbformat_minor": 2
}
